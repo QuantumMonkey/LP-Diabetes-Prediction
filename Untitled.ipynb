{
 "cells": [
  {
   "cell_type": "markdown",
   "id": "b0956eda",
   "metadata": {},
   "source": [
    "Capstone 1 for PGA by Anand Rajan\n",
    "\n",
    "The selected topic is \"A representation of Netflix TV and Shows audience\". The data was acquired though web scraping, and is updated up to May 2022. This will be a Data Visualization project but I will try to add Machine Learning later."
   ]
  },
  {
   "cell_type": "code",
   "execution_count": null,
   "id": "3cb3ea4e",
   "metadata": {},
   "outputs": [],
   "source": []
  }
 ],
 "metadata": {
  "kernelspec": {
   "display_name": "Python 3",
   "language": "python",
   "name": "python3"
  },
  "language_info": {
   "codemirror_mode": {
    "name": "ipython",
    "version": 3
   },
   "file_extension": ".py",
   "mimetype": "text/x-python",
   "name": "python",
   "nbconvert_exporter": "python",
   "pygments_lexer": "ipython3",
   "version": "3.8.8"
  }
 },
 "nbformat": 4,
 "nbformat_minor": 5
}
