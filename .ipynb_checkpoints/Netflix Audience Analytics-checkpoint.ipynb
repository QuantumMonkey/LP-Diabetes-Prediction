{
 "cells": [
  {
   "cell_type": "markdown",
   "id": "8bbb6172",
   "metadata": {},
   "source": [
    "Capstone 1 for PGA by Anand Rajan\n",
    "\n",
    "The selected topic is \"A representation of Netflix TV and Shows audience\". The data was acquired though web scraping, and is updated up to May 2022. This will be a Data Visualization project but I will try to add Machine Learning later."
   ]
  },
  {
   "cell_type": "markdown",
   "id": "5806325b",
   "metadata": {},
   "source": [
    "# Package checker\n",
    "import sys\n",
    "import subprocess\n",
    "import pkg_resources\n",
    "\n",
    "required = {'numpy', 'pandas', 'os', 'matplotlib', 'ast', 'random'}\n",
    "installed = {pkg.key for pkg in pkg_resources.working_set}\n",
    "missing = required - installed\n",
    "\n",
    "if len(missing) > 0:\n",
    "    python = sys.executable\n",
    "    subprocess.check_call([python, '-m', 'pip', 'install', *missing], stdout = subprocess.DEVNULL)"
   ]
  },
  {
   "cell_type": "code",
   "execution_count": 4,
   "id": "2af5cdc1",
   "metadata": {},
   "outputs": [],
   "source": [
    "\"\"\"\n",
    "Phase 1: Data Visualization\n",
    "\n",
    "This data is information about the shows and movies streaming in the USA.\n",
    "The intention here is to find out how Netflix content is being consumed by the audience.\n",
    "\n",
    "\"\"\"\n",
    "import numpy as np # to perform linear algebra\n",
    "\n",
    "import pandas as pd # to perform data and file processing\n",
    "\n",
    "import os\n",
    "for dirname, _, filenames in os.walk('/Dataset/'):\n",
    "    for filename in filenames:\n",
    "        print(os.path.join(dirname, filename))   \n",
    "\n",
    "        "
   ]
  },
  {
   "cell_type": "code",
   "execution_count": null,
   "id": "2d1f43f2",
   "metadata": {},
   "outputs": [],
   "source": []
  }
 ],
 "metadata": {
  "kernelspec": {
   "display_name": "Python 3",
   "language": "python",
   "name": "python3"
  },
  "language_info": {
   "codemirror_mode": {
    "name": "ipython",
    "version": 3
   },
   "file_extension": ".py",
   "mimetype": "text/x-python",
   "name": "python",
   "nbconvert_exporter": "python",
   "pygments_lexer": "ipython3",
   "version": "3.8.8"
  }
 },
 "nbformat": 4,
 "nbformat_minor": 5
}
